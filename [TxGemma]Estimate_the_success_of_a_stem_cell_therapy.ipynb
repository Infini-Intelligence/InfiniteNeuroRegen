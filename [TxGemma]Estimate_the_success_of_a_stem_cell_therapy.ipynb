{
  "cells": [
    {
      "cell_type": "markdown",
      "metadata": {
        "id": "view-in-github",
        "colab_type": "text"
      },
      "source": [
        "<a href=\"https://colab.research.google.com/github/christianawin/InfiniteNeuroRegen/blob/main/fixed_notebook_(1).ipynb\" target=\"_parent\"><img src=\"https://colab.research.google.com/assets/colab-badge.svg\" alt=\"Open In Colab\"/></a>"
      ]
    },
    {
      "cell_type": "markdown",
      "metadata": {
        "id": "jU1gK222Urq2"
      },
      "source": [
        "**Initialization & Setup**\n",
        "\n",
        "We are importing necessary libraries, including system tools, regular expressions, JSON handling, and Google Generative AI. Then we load authentication tokens securely from Colab’s `userdata` for Hugging Face and Gemini APIs. After that, we install the required Python packages to ensure model loading and inference will work smoothly.\n"
      ]
    },
    {
      "cell_type": "code",
      "execution_count": null,
      "metadata": {
        "colab": {
          "base_uri": "https://localhost:8080/"
        },
        "id": "ugGlGbnlvWJT",
        "outputId": "9892dafe-394f-43ff-9008-9d5768e9078d"
      },
      "outputs": [
        {
          "name": "stdout",
          "output_type": "stream",
          "text": [
            "\u001b[2K   \u001b[90m━━━━━━━━━━━━━━━━━━━━━━━━━━━━━━━━━━━━━━━━\u001b[0m \u001b[32m67.0/67.0 MB\u001b[0m \u001b[31m37.0 MB/s\u001b[0m eta \u001b[36m0:00:00\u001b[0m\n",
            "\u001b[2K   \u001b[90m━━━━━━━━━━━━━━━━━━━━━━━━━━━━━━━━━━━━━━━━\u001b[0m \u001b[32m514.8/514.8 kB\u001b[0m \u001b[31m36.7 MB/s\u001b[0m eta \u001b[36m0:00:00\u001b[0m\n",
            "\u001b[2K   \u001b[90m━━━━━━━━━━━━━━━━━━━━━━━━━━━━━━━━━━━━━━━━\u001b[0m \u001b[32m363.4/363.4 MB\u001b[0m \u001b[31m3.0 MB/s\u001b[0m eta \u001b[36m0:00:00\u001b[0m\n",
            "\u001b[2K   \u001b[90m━━━━━━━━━━━━━━━━━━━━━━━━━━━━━━━━━━━━━━━━\u001b[0m \u001b[32m13.8/13.8 MB\u001b[0m \u001b[31m123.8 MB/s\u001b[0m eta \u001b[36m0:00:00\u001b[0m\n",
            "\u001b[2K   \u001b[90m━━━━━━━━━━━━━━━━━━━━━━━━━━━━━━━━━━━━━━━━\u001b[0m \u001b[32m24.6/24.6 MB\u001b[0m \u001b[31m99.5 MB/s\u001b[0m eta \u001b[36m0:00:00\u001b[0m\n",
            "\u001b[2K   \u001b[90m━━━━━━━━━━━━━━━━━━━━━━━━━━━━━━━━━━━━━━━━\u001b[0m \u001b[32m883.7/883.7 kB\u001b[0m \u001b[31m58.7 MB/s\u001b[0m eta \u001b[36m0:00:00\u001b[0m\n",
            "\u001b[2K   \u001b[90m━━━━━━━━━━━━━━━━━━━━━━━━━━━━━━━━━━━━━━━━\u001b[0m \u001b[32m664.8/664.8 MB\u001b[0m \u001b[31m2.5 MB/s\u001b[0m eta \u001b[36m0:00:00\u001b[0m\n",
            "\u001b[2K   \u001b[90m━━━━━━━━━━━━━━━━━━━━━━━━━━━━━━━━━━━━━━━━\u001b[0m \u001b[32m211.5/211.5 MB\u001b[0m \u001b[31m4.9 MB/s\u001b[0m eta \u001b[36m0:00:00\u001b[0m\n",
            "\u001b[2K   \u001b[90m━━━━━━━━━━━━━━━━━━━━━━━━━━━━━━━━━━━━━━━━\u001b[0m \u001b[32m56.3/56.3 MB\u001b[0m \u001b[31m44.8 MB/s\u001b[0m eta \u001b[36m0:00:00\u001b[0m\n",
            "\u001b[2K   \u001b[90m━━━━━━━━━━━━━━━━━━━━━━━━━━━━━━━━━━━━━━━━\u001b[0m \u001b[32m127.9/127.9 MB\u001b[0m \u001b[31m20.1 MB/s\u001b[0m eta \u001b[36m0:00:00\u001b[0m\n",
            "\u001b[2K   \u001b[90m━━━━━━━━━━━━━━━━━━━━━━━━━━━━━━━━━━━━━━━━\u001b[0m \u001b[32m207.5/207.5 MB\u001b[0m \u001b[31m4.2 MB/s\u001b[0m eta \u001b[36m0:00:00\u001b[0m\n",
            "\u001b[2K   \u001b[90m━━━━━━━━━━━━━━━━━━━━━━━━━━━━━━━━━━━━━━━━\u001b[0m \u001b[32m21.1/21.1 MB\u001b[0m \u001b[31m106.8 MB/s\u001b[0m eta \u001b[36m0:00:00\u001b[0m\n",
            "\u001b[?25h"
          ]
        }
      ],
      "source": [
        "# Initialization\n",
        "import os, re, json\n",
        "from google.colab import userdata\n",
        "import pandas as pd\n",
        "import google.generativeai as genai\n",
        "\n",
        "os.environ[\"HF_TOKEN\"] = userdata.get(\"HF_TOKEN\")\n",
        "genai.configure(api_key=userdata.get(\"GEMINI_API_KEY\"))\n",
        "\n",
        "# Install dependencies\n",
        "!pip install --upgrade --quiet accelerate bitsandbytes huggingface_hub transformers"
      ]
    },
    {
      "cell_type": "markdown",
      "metadata": {
        "id": "3lyFLdKhUqWe"
      },
      "source": [
        "**Prompt Template Loading**\n",
        "\n",
        "Downloads the prompt template file (tdc_prompts.json) for TxGemma prediction model from Hugging Face hub and loads it as a Python dictionary. These standardized templates could provide structured input formats for drug discovery applications."
      ]
    },
    {
      "cell_type": "code",
      "execution_count": null,
      "metadata": {
        "colab": {
          "base_uri": "https://localhost:8080/",
          "height": 49,
          "referenced_widgets": [
            "36e6f3ab1a464f2f9e54ce9eccfb5374",
            "83c48be8125b48189ab626adae336058",
            "f8f528ff4e2e47b680bdece6fdfe6334",
            "f3c225e328e344238621031fdee3d430",
            "36e47e19336c44d39ee67fce9a975d3f",
            "70036bad355b451486e32bba229d4f8f",
            "bd37df5a089543e3affb52485194c0ee",
            "fc81c2b9ea09485b8c3485343f5846fe",
            "148888f2da964846a75d500be357f394",
            "f801066e08bf4637a27885ec840a3092",
            "fa7d5f4c49b144cb8642e57f8e7beb5a"
          ]
        },
        "id": "SfysFpGlvYI5",
        "outputId": "3daaa5f3-0d6f-4a98-e018-2c1feccef7e0"
      },
      "outputs": [
        {
          "data": {
            "application/vnd.jupyter.widget-view+json": {
              "model_id": "36e6f3ab1a464f2f9e54ce9eccfb5374",
              "version_major": 2,
              "version_minor": 0
            },
            "text/plain": [
              "tdc_prompts.json:   0%|          | 0.00/768k [00:00<?, ?B/s]"
            ]
          },
          "metadata": {},
          "output_type": "display_data"
        }
      ],
      "source": [
        "# Load prompt template\n",
        "import json\n",
        "from huggingface_hub import hf_hub_download\n",
        "\n",
        "tdc_prompts_filepath = hf_hub_download(\n",
        "    repo_id=\"google/txgemma-2b-predict\",\n",
        "    filename=\"tdc_prompts.json\",\n",
        ")\n",
        "\n",
        "with open(tdc_prompts_filepath, \"r\") as f:\n",
        "    tdc_prompts_json = json.load(f)"
      ]
    },
    {
      "cell_type": "markdown",
      "metadata": {
        "id": "_fV2SCmfVaAh"
      },
      "source": [
        "**Model Loading & Quantization**\n",
        "\n",
        "We are downloading the prediction and chat variants of TxGemma from the Hugging Face Hub. These models will be used later as tools in the Agentic-Tx pipeline. You can choose which model sizes to use (ex: 2B, 9B, or 27B) and whether to include the chat model. Make sure your runtime has sufficient memory to support the selected models."
      ]
    },
    {
      "cell_type": "code",
      "execution_count": null,
      "metadata": {
        "colab": {
          "base_uri": "https://localhost:8080/",
          "height": 817,
          "referenced_widgets": [
            "de574e8de5ef4e2987b22b946fba4088",
            "c9cc21082e7a4bedbca50e8bc468870c",
            "dba9ab8775ae4336bd073854658f0487",
            "e9aee303f8af462cb76d0d853ec7ccf7",
            "60ae6e3c44304cd989f0a8cf9f3604b2",
            "c174fa589076458395d1b2915077e33b",
            "14c7f49194eb420a9e3f3807ee16c547",
            "7cebd13fe02e4f77be0406eef77ed788",
            "17316d0acecd489db829dac0ef764aec",
            "489b931f44944954be6610f8e759a4d1",
            "cd0f79a447ff407fa94c730011e77a9b",
            "3193e2670b4d44b8a39ca4a15301fd53",
            "29c6a63fe648469f89707fc13f8ccdd6",
            "f3322fff2b324b708dbf04030055d372",
            "405dbaa9c5894aaf9ab820549ebf1205",
            "888bc7e004e0458e8819adc348efe9d2",
            "b98a302addc34db88c4b7eb107f357f8",
            "ff98b92d2dbb4f7c8befb037a35ee21e",
            "aa56a762137d42e0b1dc4fe6987416a2",
            "7122d72526744f549f0ecc39287166ea",
            "c90e32f0a7af4bdbaba69e78aa491a5f",
            "d6b249084ef44681ad8a2660d5f35a5d",
            "d4c45b6ba8314170a82e01b49fd66344",
            "fc055b66c56c4913a20c93f04f5452dd",
            "bb7187e89c9f4d2a96cfa3f9154ad397",
            "7d966814ee4f4da7bc70364464e74aeb",
            "52de9b34536741c895bc4f0aa1d4d58f",
            "80fad2c8910443b08a68ead3c92c4324",
            "0ec153313e2149d18ddcd17ec6766754",
            "2b3f5972ee8146b78fc244e3d83e0f5c",
            "829fc5bf41a344ddb1f9a43460849142",
            "26014d02a1c44a54b120a447875d345d",
            "f596781fd5314efd908a07ededdc9402",
            "50e16bd645274c139b45e218abfd542c",
            "2969e8ed5f6a42b48d9749a2c75614db",
            "271f963e255a46a2a5754543a9bbe5a9",
            "b85c1e2bec4443a8b5fa0224acf1e80c",
            "010b460538e84bc99d3ac475a79b885f",
            "33d61ba950974826a61416da6235b797",
            "f4d059d28f6340f7a23b1e90088fbeb3",
            "53127641d5d844fd8c5afb708e88d0bf",
            "232c217182ce4abd8d246cc3f546faf3",
            "5db56604cfcb4daa90a42b1cf3f6d7cd",
            "565febe209b64b1296d53c72ba129a66",
            "f9551501142a42e397785db0bf0f8cc5",
            "f2d9d9c525d844a2a6aeb6d475d651b9",
            "3b644ae7a2484bcebd54a69b4e8bc67c",
            "6dcbc37e6c994b0cbed9159c62ca6420",
            "73b90581cc7147da880e8c5774cf3654",
            "7683d8d9de6942a7a441e9efc1bbf14a",
            "be78f9b0c04d477eb97269ddbc16a1c9",
            "0737aa9376a14b719244dd3abe84553a",
            "6871e54932664b97ad8d57c351a4004b",
            "f7ad59ba76974e01bff255b1f766f59a",
            "f2dfa9a74b544eb183b38efd46fa8828",
            "d7e862a432a24fb2ae1fe12f9c3cfaa6",
            "3e92c877b7cf49f19c2c199e28956c5f",
            "7476aff348c643b282f1cf4d34d3e0da",
            "6d760b42acdc4281869328f58f5f86f4",
            "aeb494c5ec4848aeb35737af9e306f48",
            "f3bb2605cc374abfa077d5726c57e66c",
            "ef891805fae5420a99265308dfa4310a",
            "7fd636c02f934c51ba0b6729c64bbebc",
            "fdc2f8fb7a6a4997bc6e83febdcb3aa4",
            "ded7a47cc7eb4f03af721a818ca728a1",
            "564cd42922104d619c609c3a49263d57",
            "bb798293a547451d9d26e3d48610c484",
            "f9c047567ec64e54bb5367838f80532c",
            "db811ec29cc149db80d0d7cd2cd78d8c",
            "6466af93a99244ef9cae1790506b03bf",
            "1bbb1ae639cc49649ea0535570e24477",
            "13c1eca1f0664b0c8cf93d280df3a3b0",
            "9e20c769a82a419393cab1e8a89300f6",
            "8970a845331f4e909a1f99f5975cc112",
            "6399cb690bba4935983c8af6658a1d4a",
            "5b6f00ee00e74a0a895bf7367fb1147d",
            "83aa39462f4645969ac938a8388bc0af",
            "c3367bd635b84d50a12b3ec5226c56c7",
            "0ad544feeb594f2eaa1f53fa50b3a930",
            "5ea333a12eb24dd4a928986ce7d5cc96",
            "c77381c735cf4eb38c69234a713a7580",
            "b3dad015d46e4b4babeb73130110ae5c",
            "112a9654cec94b4b91aa975666fae73a",
            "03047a12ead34794914d6b17b30656ff",
            "9dfead3c4fcd4f5ea829682226a7ef78",
            "a573208c90ff463aa8781d4a6639061d",
            "230704b6e9854dfb90a1f3dd8e584147",
            "ef223016c30a473c9aea55838046926d",
            "db023c97cf4f4070ab223bde52bef218",
            "b3684c8af7164e1b95f3ab0e33e0eddb",
            "ed49d4c234e7420ab3460edb0f218ab7",
            "560c11f9d8db44549bbf38929d35d890",
            "829cafa1248e4fc8a55d9fc0e2ec4772",
            "38b9f21f48d24284b4647c9e0f8ad746",
            "eb06af65bb654f90a8ba175403eecca0",
            "e78e919c8fe54134b3fd8ec07f57fb37",
            "7d4af838f0704f298d8936edf8edcd52",
            "48dbdf2de3004adca25f7c5e870cfb35",
            "d808b0dc60084b4c87f89a8346e8340a",
            "6fd95d3ac1e443a39c0085f51b32c503",
            "cd22b7d5c45047939635eb2211ea417f",
            "362d23cd3c0d40ea97d7704cdf42a7e4",
            "7707fd945bff455faa028e4ec60a62d1",
            "0af078b0517e4ccdb9649519174c3407",
            "d3b90811ee424f6184acc08dce014a5b",
            "a15b8ff1a6b048aba000e793ce9cc3eb",
            "3ce74c5d10b949b48f761f7e74a88254",
            "8fd3dd9ee73c479397fbbf615f7cc17e",
            "5c39f6365276411fbe2f88a1116c165c",
            "27c6085f7bf0485f95b711568768c7a2",
            "cf8b4b1b6ed34f1b829a104dab65f902",
            "c6bacd1ef37d4e109bd2115528216588",
            "62ff0f6db69a419692cb935d7487e434",
            "bd417e7347074a84a95109c07133486b",
            "6a41fcfaefb2410596f83dd6bd2449fa",
            "101b72352c6240039bbc7ed9974932b3",
            "7bef7e3d47e349238596536c5505d95a",
            "9c1685dcb9c84ee093ef4ed78a749653",
            "9f266a1f1410492d88c57721cbde37b9",
            "09d6f3795d3440069b46a51ae3a7989a",
            "f1250ca38abe442daed6d9208fe3fd3e",
            "4be5d03066a340f09e7fa4346cf7f813",
            "f7f76a736adc46fbb8f4dd2b16ca25ee",
            "5606268a29ad4442afe1fb87226a1d19",
            "69aa89980d744997849ad59ccd004eb9",
            "ad67cedd61c14d7b8365edfc8a1df4d3",
            "501945434e3f4e5494a50989469b54e2",
            "54c682350dcc4838b09e337a6466f2e3",
            "d28f811048744ba19c581a700dc8224c",
            "0f0972716e1f421c896c2b66ac74b9aa",
            "c74bab639f1640f5bece5f78aa34178e",
            "217d2b7307f1494d8132eda53c96f9d3",
            "1bdc5be91fb242bc86e22ee2b44da679",
            "8337393066e249e7a7d326e409bf76be",
            "f409ae63befe48b7af52575d6db013e6",
            "51943bacca65411c88971bab45e68d92",
            "e711874f3c7d44d6965fb3ae114ba886",
            "d7e86a234a804bea9029d9b42019ae01",
            "33e0bba31ac045809f1ccfdec3d2550b",
            "5d568dff06d64a9aa5af3fe2e2c419fc",
            "29e597f49f9c409b91640ff3c3c54614",
            "e5fcc5ac765549dcbb6c94ee64d84ff7",
            "f352609955ee4c0c86ed18a9a148cc20",
            "daed34f934c041e4bc249ab6c44f00de",
            "ef95326ee9d045dfbbc4c5e0e4a235e6",
            "a927760ac14840babefcab1fc83b18a1",
            "3894643cc60f484ab3e7d88bdeeb85ab",
            "accccc2259224bd9aa12bfcd437bb043",
            "d955a5e1914e4398933923b3b116fd1d",
            "cb8ca46798114913b041d56953f042f0",
            "012c74d52b40478fa9a74337222eb7de",
            "95672e5e8f484d509d0dc508ae381201",
            "693cc90bda174d7aa8e5a9a64c28a01e",
            "6e33c2176bef4e408e2644d4a6f9d79a",
            "27c28a9bf9844e279dfe1b223af9b5cf",
            "344edf4551d248bf88a00550d00a2b45",
            "1996f8be32554617a819a2dba671b9bc",
            "034cfa386b03488a90da4b68df962595",
            "cbf0ee7738874d1b85b0450d32b25422",
            "f6b88e90416948f9857a52805ac9a066",
            "e53b34e865fa40f6b7113130007617e1",
            "6cfd9e84c98b4ff1b5c5a74c703002cd",
            "901caf63e6bc413f9cb006905fef0852",
            "49a5ed22d4e344dd87ea205960fc7fa8",
            "07fff30c62ab43c9859382228cf387a2",
            "170887e79e5e4b19aa06c7e2653b0907",
            "92750276e5ac47ff988cc1f25669bdce",
            "d1ae883f4da24e71bad4e36b8d58e11b",
            "5da36ccc80084848bbf4d60eb7b81b13",
            "adb925bcfd894ee582951bfbf2d3cc01",
            "df7b3e9ae33349a888a1099f62178167",
            "2949ec600a4f4b92a3bd7227713d8871",
            "7e9d59605e8940bb9b115b1a5755ad76",
            "e8db5f636cfb47329c7a38e3f3675a85",
            "14c2236ef5c14cd99382cd6c6d14a7b7",
            "17b818f252854c86acd3bb7595292fbc",
            "96d3451b0ef04e1bbc2a5d7e8e98c23d",
            "e52b404a0e554aeea3c8f878acbbf61a",
            "f60065be1bbe435fabeb685e9e91d71f",
            "b8a35300c16a4d7b984a8de49330131b",
            "6253ad905d0041c999d0861fe87862d7",
            "8272e0cc01f0406f88fff68502ce1fad",
            "5f35f1e4b06a4222aec02a4b94af1aca",
            "816be1ab85fa4ec391ed5349b7075158",
            "f77a30add3114129a70d76cfc52b2032",
            "ebc80492d9504b8cb7987f851323babb",
            "d4118bac58104ad6b1eb7c4e3f5cd10e",
            "5219b23c1c24425ab017ae8d8e40dbc2",
            "1c4360f2f878468d928f2e36c116658b",
            "e057758c98124e63807aaf2d75e26cbf",
            "8a7467995b7f45a08e854b4f6b7dc06a",
            "4efa0f2fd4804ba487850fb65c484c87",
            "11c3b39cf9a14cf5aecd20d10a7235bf",
            "6087102eaf5242c4a6c021bee382ebd4",
            "782677b6adc84a8799bf7da7b1b7223a",
            "1bcf47605213497b870f91d2d58a6b26",
            "e1d871c47ef94501999903933f6e0254",
            "b85313cc55224752a3a1500e6457837b",
            "b6ed2c887bbd4910a2613cf7e848b0bc",
            "17f6780f73e5414cb64bcedf2863d8be",
            "7c722123e0cf41cca0e6454b529991ed",
            "961f1573dce34972b8cc949981f4ccd6",
            "4fe1c390060d4a69af30324a4bc683c6",
            "a57b8ccd385b4e16a97e51744182ff89",
            "f3730ab4e4594456af99579ca4d4d66b",
            "535f0d2c01cc43d181b95981d34c283a",
            "3108eecd36a24ce488cd0a530ca8d0ff",
            "82b2648435674afaa364d53fb2871644",
            "a5258d6fdb3e497fa96fdd4cc90a45c8",
            "5a409fa5259249a1a8d257851d5cfeb8",
            "ea0c039341bb4fcd84609512a3c6e16d",
            "ad08e5f4ec044acfbbbfcfe905988b18",
            "dc4bb933eb50492486257b9b134c0107",
            "a072db45d85049d68c1756a76d225448",
            "5769b744664b419393b398d0aefc74ea",
            "fd7f04d1d65f4e97b666d97fe954f3c9",
            "4e7aa4f2a7074e5392088abbcb8ed6d5",
            "048d1e2f404e4893b18f436ea92e8988",
            "dc9b30cbb1e24664a86281721766428e",
            "6c28e819b78041b29b6284ca94c050f3",
            "bdd1ca1485f94dac89612e44ef46b62f",
            "7456ee9f9699409686b8c2ce2ce3aa29",
            "9f93d3e2cd494571bdd1ba3096a32424",
            "3734d11b99904a2a91f07c79ae7c1697",
            "dd4a062bf45543dda2467145341d5a15",
            "120a079b108b400cb6d39bce24e9f2cc",
            "1b8d8d2fa5ee42ea87eff54ca658a71f",
            "165cfc4760224973b250f52ab42dd26c",
            "0f53fe0cc02f428eabe5411dbc6f8537",
            "5408294927a6483ebfc97e145c76e7f9",
            "56fd65be2a4f4fa692dca1a11ddde273",
            "971ce6bc8721493382222b5c94523558",
            "897a76c224fd419fa20b7590fa49edf8",
            "e4ad6b37d4d84b84bae9fa3b4b897638",
            "235b07e5b0254f0ea5bda28931a048bb",
            "62be045496c445c188025783c82f174d",
            "fdd17d75349a48eba0ff61fceb45d14b",
            "004bae580b2044dbafd003d3dd347e82",
            "d2f76e4ff8fb4955b18f808b0458db80",
            "82df3cfd0a6e4764949620b7c4da1e82",
            "86a49867e2294548a18a0d6ccf295341",
            "abfb4dfd868e42aebca1e319e0390e2b",
            "6b92db15705c4358b5f59dcf8041c6fd",
            "bc67f439cf374129bf5e5dec9346ce31",
            "a5f7fe2bf0574585acdecde7d5a705ba",
            "6a45ed8c9b2a4315a3be9bf9974b8cf1",
            "2dcc40d5624c40b18d83ccdb28989914",
            "906dec4fef9145fa94430a48c800ec6b",
            "849ef959b27e4f73befcbb80131f9ad6",
            "8f02d601fef344c5b8379868c0e1fc82",
            "bdc5d0a890ef4d66801d2b7d015cc7a7",
            "66e1c527238b4ea59c51af60a875b2f0",
            "704004c3a5694f549ffaf3a447163892",
            "829119726dbd4bae8788025ffff00a68",
            "0093ad68e5264fc78b11229490682543",
            "0d75fc88cd984a48b53eab1ab9a4dfe0",
            "36d55242d2714242a352096f828aabb8",
            "c4741576ef864120862ac724ec594e0e",
            "ad1c6d54ff344c6c8d9fae2a60349a4e",
            "3ccbbb18fffa45f5ab05af860fd058c2",
            "a740b62cee7a4d83818f9645e50ed1f2",
            "bced478fede64661a1ee93be36c0abf9",
            "83717b54c2604013b43ede50ced06a2f",
            "1c4f90eaaba74851a15c9fbeabb0434c",
            "19464d70e0e943559cbb132cb49b876b",
            "fa04190216ff4fb8bf9a9f649b20528e",
            "8e24efe1c7af4dbba08622dc04d8ccdb",
            "222cc30893b94660b82343420d0a9fac",
            "379fab8f99d94eb992faa305e975d25f",
            "b08fa06543054afc9dfec48c59541589",
            "9d1fee4697e145f894ffdb24b2b57471",
            "188f346fa88141b282d6927b27a41c06",
            "daf5a0ebccd84dadb225b1e54e36f7f3",
            "d23c37dc743b47c2baa2c5af2695eafe",
            "2bfea80d7da44cad8b1a7b46447fb6ea"
          ]
        },
        "id": "-WRB3qSiveck",
        "outputId": "c58a9074-afcc-480b-c9af-c43318134677"
      },
      "outputs": [
        {
          "data": {
            "application/vnd.jupyter.widget-view+json": {
              "model_id": "de574e8de5ef4e2987b22b946fba4088",
              "version_major": 2,
              "version_minor": 0
            },
            "text/plain": [
              "tokenizer_config.json:   0%|          | 0.00/46.4k [00:00<?, ?B/s]"
            ]
          },
          "metadata": {},
          "output_type": "display_data"
        },
        {
          "data": {
            "application/vnd.jupyter.widget-view+json": {
              "model_id": "3193e2670b4d44b8a39ca4a15301fd53",
              "version_major": 2,
              "version_minor": 0
            },
            "text/plain": [
              "tokenizer.model:   0%|          | 0.00/4.24M [00:00<?, ?B/s]"
            ]
          },
          "metadata": {},
          "output_type": "display_data"
        },
        {
          "data": {
            "application/vnd.jupyter.widget-view+json": {
              "model_id": "d4c45b6ba8314170a82e01b49fd66344",
              "version_major": 2,
              "version_minor": 0
            },
            "text/plain": [
              "tokenizer.json:   0%|          | 0.00/17.5M [00:00<?, ?B/s]"
            ]
          },
          "metadata": {},
          "output_type": "display_data"
        },
        {
          "data": {
            "application/vnd.jupyter.widget-view+json": {
              "model_id": "50e16bd645274c139b45e218abfd542c",
              "version_major": 2,
              "version_minor": 0
            },
            "text/plain": [
              "special_tokens_map.json:   0%|          | 0.00/636 [00:00<?, ?B/s]"
            ]
          },
          "metadata": {},
          "output_type": "display_data"
        },
        {
          "data": {
            "application/vnd.jupyter.widget-view+json": {
              "model_id": "f9551501142a42e397785db0bf0f8cc5",
              "version_major": 2,
              "version_minor": 0
            },
            "text/plain": [
              "config.json:   0%|          | 0.00/818 [00:00<?, ?B/s]"
            ]
          },
          "metadata": {},
          "output_type": "display_data"
        },
        {
          "data": {
            "application/vnd.jupyter.widget-view+json": {
              "model_id": "d7e862a432a24fb2ae1fe12f9c3cfaa6",
              "version_major": 2,
              "version_minor": 0
            },
            "text/plain": [
              "model.safetensors.index.json:   0%|          | 0.00/24.2k [00:00<?, ?B/s]"
            ]
          },
          "metadata": {},
          "output_type": "display_data"
        },
        {
          "data": {
            "application/vnd.jupyter.widget-view+json": {
              "model_id": "bb798293a547451d9d26e3d48610c484",
              "version_major": 2,
              "version_minor": 0
            },
            "text/plain": [
              "Fetching 3 files:   0%|          | 0/3 [00:00<?, ?it/s]"
            ]
          },
          "metadata": {},
          "output_type": "display_data"
        },
        {
          "data": {
            "application/vnd.jupyter.widget-view+json": {
              "model_id": "c3367bd635b84d50a12b3ec5226c56c7",
              "version_major": 2,
              "version_minor": 0
            },
            "text/plain": [
              "model-00003-of-00003.safetensors:   0%|          | 0.00/481M [00:00<?, ?B/s]"
            ]
          },
          "metadata": {},
          "output_type": "display_data"
        },
        {
          "data": {
            "application/vnd.jupyter.widget-view+json": {
              "model_id": "db023c97cf4f4070ab223bde52bef218",
              "version_major": 2,
              "version_minor": 0
            },
            "text/plain": [
              "model-00001-of-00003.safetensors:   0%|          | 0.00/4.99G [00:00<?, ?B/s]"
            ]
          },
          "metadata": {},
          "output_type": "display_data"
        },
        {
          "data": {
            "application/vnd.jupyter.widget-view+json": {
              "model_id": "6fd95d3ac1e443a39c0085f51b32c503",
              "version_major": 2,
              "version_minor": 0
            },
            "text/plain": [
              "model-00002-of-00003.safetensors:   0%|          | 0.00/4.98G [00:00<?, ?B/s]"
            ]
          },
          "metadata": {},
          "output_type": "display_data"
        },
        {
          "data": {
            "application/vnd.jupyter.widget-view+json": {
              "model_id": "cf8b4b1b6ed34f1b829a104dab65f902",
              "version_major": 2,
              "version_minor": 0
            },
            "text/plain": [
              "Loading checkpoint shards:   0%|          | 0/3 [00:00<?, ?it/s]"
            ]
          },
          "metadata": {},
          "output_type": "display_data"
        },
        {
          "data": {
            "application/vnd.jupyter.widget-view+json": {
              "model_id": "4be5d03066a340f09e7fa4346cf7f813",
              "version_major": 2,
              "version_minor": 0
            },
            "text/plain": [
              "generation_config.json:   0%|          | 0.00/168 [00:00<?, ?B/s]"
            ]
          },
          "metadata": {},
          "output_type": "display_data"
        },
        {
          "data": {
            "application/vnd.jupyter.widget-view+json": {
              "model_id": "1bdc5be91fb242bc86e22ee2b44da679",
              "version_major": 2,
              "version_minor": 0
            },
            "text/plain": [
              "tokenizer_config.json:   0%|          | 0.00/47.0k [00:00<?, ?B/s]"
            ]
          },
          "metadata": {},
          "output_type": "display_data"
        },
        {
          "data": {
            "application/vnd.jupyter.widget-view+json": {
              "model_id": "daed34f934c041e4bc249ab6c44f00de",
              "version_major": 2,
              "version_minor": 0
            },
            "text/plain": [
              "tokenizer.model:   0%|          | 0.00/4.24M [00:00<?, ?B/s]"
            ]
          },
          "metadata": {},
          "output_type": "display_data"
        },
        {
          "data": {
            "application/vnd.jupyter.widget-view+json": {
              "model_id": "27c28a9bf9844e279dfe1b223af9b5cf",
              "version_major": 2,
              "version_minor": 0
            },
            "text/plain": [
              "tokenizer.json:   0%|          | 0.00/17.5M [00:00<?, ?B/s]"
            ]
          },
          "metadata": {},
          "output_type": "display_data"
        },
        {
          "data": {
            "application/vnd.jupyter.widget-view+json": {
              "model_id": "170887e79e5e4b19aa06c7e2653b0907",
              "version_major": 2,
              "version_minor": 0
            },
            "text/plain": [
              "special_tokens_map.json:   0%|          | 0.00/636 [00:00<?, ?B/s]"
            ]
          },
          "metadata": {},
          "output_type": "display_data"
        },
        {
          "data": {
            "application/vnd.jupyter.widget-view+json": {
              "model_id": "96d3451b0ef04e1bbc2a5d7e8e98c23d",
              "version_major": 2,
              "version_minor": 0
            },
            "text/plain": [
              "config.json:   0%|          | 0.00/852 [00:00<?, ?B/s]"
            ]
          },
          "metadata": {},
          "output_type": "display_data"
        },
        {
          "data": {
            "application/vnd.jupyter.widget-view+json": {
              "model_id": "5219b23c1c24425ab017ae8d8e40dbc2",
              "version_major": 2,
              "version_minor": 0
            },
            "text/plain": [
              "model.safetensors.index.json:   0%|          | 0.00/39.1k [00:00<?, ?B/s]"
            ]
          },
          "metadata": {},
          "output_type": "display_data"
        },
        {
          "data": {
            "application/vnd.jupyter.widget-view+json": {
              "model_id": "b6ed2c887bbd4910a2613cf7e848b0bc",
              "version_major": 2,
              "version_minor": 0
            },
            "text/plain": [
              "Fetching 4 files:   0%|          | 0/4 [00:00<?, ?it/s]"
            ]
          },
          "metadata": {},
          "output_type": "display_data"
        },
        {
          "data": {
            "application/vnd.jupyter.widget-view+json": {
              "model_id": "5a409fa5259249a1a8d257851d5cfeb8",
              "version_major": 2,
              "version_minor": 0
            },
            "text/plain": [
              "model-00001-of-00004.safetensors:   0%|          | 0.00/4.90G [00:00<?, ?B/s]"
            ]
          },
          "metadata": {},
          "output_type": "display_data"
        },
        {
          "data": {
            "application/vnd.jupyter.widget-view+json": {
              "model_id": "bdd1ca1485f94dac89612e44ef46b62f",
              "version_major": 2,
              "version_minor": 0
            },
            "text/plain": [
              "model-00002-of-00004.safetensors:   0%|          | 0.00/4.95G [00:00<?, ?B/s]"
            ]
          },
          "metadata": {},
          "output_type": "display_data"
        },
        {
          "data": {
            "application/vnd.jupyter.widget-view+json": {
              "model_id": "971ce6bc8721493382222b5c94523558",
              "version_major": 2,
              "version_minor": 0
            },
            "text/plain": [
              "model-00003-of-00004.safetensors:   0%|          | 0.00/4.96G [00:00<?, ?B/s]"
            ]
          },
          "metadata": {},
          "output_type": "display_data"
        },
        {
          "data": {
            "application/vnd.jupyter.widget-view+json": {
              "model_id": "6b92db15705c4358b5f59dcf8041c6fd",
              "version_major": 2,
              "version_minor": 0
            },
            "text/plain": [
              "model-00004-of-00004.safetensors:   0%|          | 0.00/3.67G [00:00<?, ?B/s]"
            ]
          },
          "metadata": {},
          "output_type": "display_data"
        },
        {
          "data": {
            "application/vnd.jupyter.widget-view+json": {
              "model_id": "829119726dbd4bae8788025ffff00a68",
              "version_major": 2,
              "version_minor": 0
            },
            "text/plain": [
              "Loading checkpoint shards:   0%|          | 0/4 [00:00<?, ?it/s]"
            ]
          },
          "metadata": {},
          "output_type": "display_data"
        },
        {
          "data": {
            "application/vnd.jupyter.widget-view+json": {
              "model_id": "19464d70e0e943559cbb132cb49b876b",
              "version_major": 2,
              "version_minor": 0
            },
            "text/plain": [
              "generation_config.json:   0%|          | 0.00/168 [00:00<?, ?B/s]"
            ]
          },
          "metadata": {},
          "output_type": "display_data"
        }
      ],
      "source": [
        "# Load model\n",
        "from transformers import AutoTokenizer, AutoModelForCausalLM, BitsAndBytesConfig\n",
        "\n",
        "PREDICT_VARIANT = \"2b-predict\"  # @param [\"2b-predict\", \"9b-predict\", \"27b-predict\"]\n",
        "CHAT_VARIANT = \"9b-chat\" # @param [\"9b-chat\", \"27b-chat\"]\n",
        "USE_CHAT = True # @param {type: \"boolean\"}\n",
        "\n",
        "quantization_config = BitsAndBytesConfig(load_in_4bit=True)\n",
        "\n",
        "predict_tokenizer = AutoTokenizer.from_pretrained(f\"google/txgemma-{PREDICT_VARIANT}\")\n",
        "predict_model = AutoModelForCausalLM.from_pretrained(\n",
        "    f\"google/txgemma-{PREDICT_VARIANT}\",\n",
        "    device_map=\"auto\",\n",
        "    quantization_config=quantization_config,\n",
        ")\n",
        "\n",
        "if USE_CHAT:\n",
        "    chat_tokenizer = AutoTokenizer.from_pretrained(f\"google/txgemma-{CHAT_VARIANT}\")\n",
        "    chat_model = AutoModelForCausalLM.from_pretrained(\n",
        "        f\"google/txgemma-{CHAT_VARIANT}\",\n",
        "        device_map=\"auto\",\n",
        "        quantization_config=quantization_config,\n",
        "    )"
      ]
    },
    {
      "cell_type": "markdown",
      "metadata": {
        "id": "_RuaE1r6V8gi"
      },
      "source": [
        "**Run Example**\n",
        "\n",
        "We are defining a sample task using the BBB_Martins prompt template from the TDC dataset. The placeholder {Drug SMILES} is replaced with the actual SMILES string for a drug molecule. Two helper functions, txgemma_predict() and txgemma_chat(), are defined to send the prompt to the prediction and chat models respectively. Finally, we call these functions to print the model outputs for this example input."
      ]
    },
    {
      "cell_type": "code",
      "execution_count": null,
      "metadata": {
        "colab": {
          "base_uri": "https://localhost:8080/"
        },
        "id": "radPTRYqFHBd",
        "outputId": "b7f340a4-c1ae-4eae-fe65-15db0165ad8a"
      },
      "outputs": [
        {
          "name": "stderr",
          "output_type": "stream",
          "text": [
            "/usr/local/lib/python3.11/dist-packages/bitsandbytes/nn/modules.py:463: UserWarning: Input type into Linear4bit is torch.float16, but bnb_4bit_compute_dtype=torch.float32 (default). This will lead to slow inference or training speed.\n",
            "  warnings.warn(\n"
          ]
        },
        {
          "name": "stdout",
          "output_type": "stream",
          "text": [
            "Prediction model response: Instructions: Answer the following question about drug properties.\n",
            "Context: As a membrane separating circulating blood and brain extracellular fluid, the blood-brain barrier (BBB) is the protection layer that blocks most foreign drugs. Thus the ability of a drug to penetrate the barrier to deliver to the site of action forms a crucial challenge in development of drugs for central nervous system.\n",
            "Question: Given a drug SMILES string, predict whether it\n",
            "(A) does not cross the BBB (B) crosses the BBB\n",
            "Drug SMILES: CN1C(=O)CN=C(C2=CCCCC2)c2cc(Cl)ccc21\n",
            "Answer:(B)\n",
            "Chat model response: Instructions: Answer the following question about drug properties.\n",
            "Context: As a membrane separating circulating blood and brain extracellular fluid, the blood-brain barrier (BBB) is the protection layer that blocks most foreign drugs. Thus the ability of a drug to penetrate the barrier to deliver to the site of action forms a crucial challenge in development of drugs for central nervous system.\n",
            "Question: Given a drug SMILES string, predict whether it\n",
            "(A) does not cross the BBB (B) crosses the BBB\n",
            "Drug SMILES: CN1C(=O)CN=C(C2=CCCCC2)c2cc(Cl)ccc21\n",
            "Answer: (B)\n"
          ]
        }
      ],
      "source": [
        "# Example task and input\n",
        "task_name = \"BBB_Martins\"\n",
        "input_type = \"{Drug SMILES}\"\n",
        "drug_smiles = \"CN1C(=O)CN=C(C2=CCCCC2)c2cc(Cl)ccc21\"\n",
        "TDC_PROMPT = tdc_prompts_json[task_name].replace(input_type, drug_smiles)\n",
        "\n",
        "def txgemma_predict(prompt):\n",
        "    input_ids = predict_tokenizer(prompt, return_tensors=\"pt\").to(\"cuda\")\n",
        "    outputs = predict_model.generate(**input_ids, max_new_tokens=8)\n",
        "    return predict_tokenizer.decode(outputs[0], skip_special_tokens=True)\n",
        "\n",
        "def txgemma_chat(prompt):\n",
        "    input_ids = chat_tokenizer(prompt, return_tensors=\"pt\").to(\"cuda\")\n",
        "    outputs = chat_model.generate(**input_ids, max_new_tokens=32)\n",
        "    return chat_tokenizer.decode(outputs[0], skip_special_tokens=True)\n",
        "\n",
        "print(f\"Prediction model response: {txgemma_predict(TDC_PROMPT)}\")\n",
        "if USE_CHAT: print(f\"Chat model response: {txgemma_chat(TDC_PROMPT)}\")"
      ]
    },
    {
      "cell_type": "markdown",
      "metadata": {
        "id": "nvKxqyY0XgzZ"
      },
      "source": [
        "**Define TxGemmaChat Tool for Agentic Use**\n",
        "\n",
        "We are defining a helper class that allows the agent to interact with TxGemma through structured prompts. The TxGemmaChatTool detects whether a prompt block (TxGemmaChat) is present, extracts its contents, and submits the cleaned biomedical question to the TxGemma chat model. The tool also includes an instruction string that guides users on how to format queries properly, including usage examples and task-specific capabilities such as interpreting trial metadata and estimating clinical success probabilities."
      ]
    },
    {
      "cell_type": "code",
      "execution_count": null,
      "metadata": {
        "id": "xh0mTC31FO1m"
      },
      "outputs": [],
      "source": [
        "# This will allow us to extract content from inside of ticks\n",
        "def extract_prompt(text, word):\n",
        "    code_block_pattern = rf\"```{word}(.*?)```\"\n",
        "    code_blocks = re.findall(code_block_pattern, text, re.DOTALL)\n",
        "    extracted_code = \"\\n\".join(code_blocks).strip()\n",
        "    return extracted_code\n",
        "\n",
        "# This class will allow us to inferface with TxGemma\n",
        "class TxGemmaChatTool:\n",
        "    def __init__(self):\n",
        "      self.tool_name = \"Chat Tool\"\n",
        "\n",
        "    def use_tool(self, question):\n",
        "        # Here, we are submitting a question to TxGemma\n",
        "        response = txgemma_chat(question)\n",
        "        return response\n",
        "\n",
        "    def tool_is_used(self, query):\n",
        "        # This just checks to see if the tool call was evoked\n",
        "        return \"```TxGemmaChat\" in query\n",
        "\n",
        "    def process_query(self, query):\n",
        "        # Here, we clean to query to remove the tool call\n",
        "        return extract_prompt(query, word=\"TxGemmaChat\")\n",
        "\n",
        "    def instructions(self):\n",
        "        return (\n",
        "            \"=== TX-009 Task: Therapeutic Chat Tool Instructions ===\\n\"\n",
        "            \"### What This Tool Does\\n\"\n",
        "            \"The TxGemma Therapeutic Chat Tool allows the agent to ask domain-specific questions to a large language model \"\n",
        "            \"fine-tuned on therapeutic and biomedical datasets. It is particularly configured for TX-009 to:\\n\"\n",
        "            \"- Interpret trial metadata\\n\"\n",
        "            \"- Extract and rank top 5 contributing factors\\n\"\n",
        "            \"- Estimate clinical success probabilities (0.0–1.0)\\n\"\n",
        "            \"- Generate scientific summaries for Markdown or JSON reports\\n\\n\"\n",
        "\n",
        "            \"### How to Use It\\n\"\n",
        "            \"Wrap your query in triple backticks (```), starting with `TxGemmaChat`. Write your question on the next line.\\n\"\n",
        "            \"Do NOT include external instructions inside your prompt, only the direct biomedical content.\\n\\n\"\n",
        "\n",
        "            \"### Required Format\\n\"\n",
        "            \"```TxGemmaChat\\n\"\n",
        "            \"[your question, such as: What are the top 5 factors influencing success of Bemdaneprocel?]\\n\"\n",
        "            \"```\\n\\n\"\n",
        "\n",
        "            \"### Example:\\n\"\n",
        "            \"```TxGemmaChat\\n\"\n",
        "            \"Estimate clinical success probability for Bemdaneprocel based on trial metadata and literature.\\n\"\n",
        "            \"```\\n\"\n",
        "        )"
      ]
    },
    {
      "cell_type": "markdown",
      "metadata": {
        "id": "5WNdseH3ZB0J"
      },
      "source": [
        "Checking whether the chat model is enabled. If so, we initialize the TxGemmaChatTool and use it to submit a direct biomedical question to TxGemma. The tool sends the query — in this case, about Aspirin and headaches — to the chat model and prints the response."
      ]
    },
    {
      "cell_type": "code",
      "execution_count": null,
      "metadata": {
        "colab": {
          "base_uri": "https://localhost:8080/"
        },
        "id": "VZL3FxB9FTlw",
        "outputId": "6e4d9679-b16d-4b05-8de5-9ba55d895592"
      },
      "outputs": [
        {
          "name": "stdout",
          "output_type": "stream",
          "text": [
            "Can Aspirin help with headaches? Yes or no? \n",
            "\n"
          ]
        }
      ],
      "source": [
        "if USE_CHAT:\n",
        "    chat_tool = TxGemmaChatTool()\n",
        "    response = chat_tool.use_tool(\"Can Aspirin help with headaches? Yes or no?\")\n",
        "    print(response)"
      ]
    },
    {
      "cell_type": "markdown",
      "metadata": {
        "id": "-DDBDYH9ZGaH"
      },
      "source": [
        "**Load and Filter Dataset**\n",
        "\n",
        "Now, loading the dataset from \"Single_Disease_Dataset_with_Index.csv\" and selecting the first row that matches the criteria: the stem-cell modality contains \"bemdaneprocel\" and the disease field includes \"Parkinson\". This row will be used as trial metadata for the TxGemma model."
      ]
    },
    {
      "cell_type": "code",
      "execution_count": null,
      "metadata": {
        "id": "2M2IGIagviVP"
      },
      "outputs": [],
      "source": [
        "# Load data\n",
        "df = pd.read_csv(\"Single_Disease_Dataset_with_Index.csv\")\n",
        "\n",
        "row = df[\n",
        "    df['Stem-Cell Modality'].str.contains(\"bemdaneprocel\", case=False, na=False) &\n",
        "    df['Single_Disease'].str.contains(\"Parkinson\", case=False, na=False)\n",
        "].iloc[0]"
      ]
    },
    {
      "cell_type": "markdown",
      "metadata": {
        "id": "7X-NdX_cZUe4"
      },
      "source": [
        "**PubMed Search Tool for Biomedical Literature**\n",
        "\n",
        "We now defining a tool that connects to the NCBI Entrez API to search PubMed for relevant scientific literature. The results are formatted with <abstract_start> and <abstract_finish> tags to ensure clean integration with downstream prompt processing in the Agentic-Tx pipeline."
      ]
    },
    {
      "cell_type": "code",
      "execution_count": null,
      "metadata": {
        "colab": {
          "base_uri": "https://localhost:8080/"
        },
        "id": "F4G6A19Evk9y",
        "outputId": "d07a536f-3fbb-4bd6-d498-fda8beb00764"
      },
      "outputs": [
        {
          "name": "stdout",
          "output_type": "stream",
          "text": [
            "\u001b[?25l   \u001b[90m━━━━━━━━━━━━━━━━━━━━━━━━━━━━━━━━━━━━━━━━\u001b[0m \u001b[32m0.0/3.3 MB\u001b[0m \u001b[31m?\u001b[0m eta \u001b[36m-:--:--\u001b[0m\r",
            "\u001b[2K   \u001b[91m━━━━━━━━━━━━━━━━━━━━━━━━━━━━━━━━━━━━━━━\u001b[0m\u001b[91m╸\u001b[0m \u001b[32m3.3/3.3 MB\u001b[0m \u001b[31m168.8 MB/s\u001b[0m eta \u001b[36m0:00:01\u001b[0m\r",
            "\u001b[2K   \u001b[90m━━━━━━━━━━━━━━━━━━━━━━━━━━━━━━━━━━━━━━━━\u001b[0m \u001b[32m3.3/3.3 MB\u001b[0m \u001b[31m85.2 MB/s\u001b[0m eta \u001b[36m0:00:00\u001b[0m\n",
            "\u001b[?25h"
          ]
        }
      ],
      "source": [
        "#PubMed Search\n",
        "\n",
        "! pip install --upgrade --quiet biopython\n",
        "\n",
        "from Bio import Medline, Entrez\n",
        "\n",
        "class PubMedSearch:\n",
        "    def __init__(self):\n",
        "        self.tool_name = \"PubMed Search\"\n",
        "\n",
        "    def tool_is_used(self, query: str):\n",
        "        return \"```PubMedSearch\" in query\n",
        "\n",
        "    def process_query(self, query: str):\n",
        "        search_text = extract_prompt(query, word=\"PubMedSearch\")\n",
        "        return search_text.strip()\n",
        "\n",
        "    def use_tool(self, search_text):\n",
        "        handle = Entrez.esearch(db=\"pubmed\", sort=\"relevance\", term=search_text, retmax=3)\n",
        "        record = Entrez.read(handle)\n",
        "        pmids = record.get(\"IdList\", [])\n",
        "        handle.close()\n",
        "\n",
        "        if not pmids:\n",
        "            return f\"No PubMed articles found for '{search_text}'. Please try a simpler search query.\"\n",
        "\n",
        "        fetch_handle = Entrez.efetch(db=\"pubmed\", id=\",\".join(pmids), rettype=\"medline\", retmode=\"text\")\n",
        "        records = list(Medline.parse(fetch_handle))\n",
        "        fetch_handle.close()\n",
        "\n",
        "        result_str = f\"=== PubMed Search Results for: '{search_text}' ===\\n\"\n",
        "        for i, record in enumerate(records, start=1):\n",
        "            pmid = record.get(\"PMID\", \"N/A\")\n",
        "            title = record.get(\"TI\", \"No title available\")\n",
        "            abstract = record.get(\"AB\", \"No abstract available\")\n",
        "            journal = record.get(\"JT\", \"No journal info\")\n",
        "            pub_date = record.get(\"DP\", \"No date info\")\n",
        "            authors = record.get(\"AU\", [])\n",
        "            authors_str = \", \".join(authors[:3])\n",
        "            result_str += (\n",
        "                f\"\\n--- Article #{i} ---\\n\"\n",
        "                f\"PMID: {pmid}\\n\"\n",
        "                f\"Title: {title}\\n\"\n",
        "                f\"Authors: {authors_str}\\n\"\n",
        "                f\"Journal: {journal}\\n\"\n",
        "                f\"Publication Date: {pub_date}\\n\"\n",
        "                f\"<abstract_start>{abstract}</abstract_finish>\\n\"\n",
        "            )\n",
        "        return f\"Query: {search_text}\\nResults: {result_str}\"\n",
        "\n",
        "    def instructions(self):\n",
        "        return (\n",
        "            f\"{'@' * 10}\\n@@@ PubMed Search Tool Instructions @@@\\n\\n\"\n",
        "            \"### What This Tool Does\\n\"\n",
        "            \"The PubMed Search Tool queries the NCBI Entrez API (PubMed) for a given search phrase, \"\n",
        "            \"and retrieves metadata for a few of the top articles (PMID, title, authors, journal, date, abstract).\\n\\n\"\n",
        "            \"### When / Why You Should Use It\\n\"\n",
        "            \"- To find **scientific literature** on biomedical topics like stem cell therapies.\\n\"\n",
        "            \"- To get **abstracts** as evidence for TxGemma prediction.\\n\\n\"\n",
        "            \"### Query Format\\n\"\n",
        "            \"Use triple backticks ``` and start with `PubMedSearch`. Example:\\n\"\n",
        "            \"```PubMedSearch\\nBemdaneprocel Parkinson's Disease\\n```\\n\"\n",
        "        )"
      ]
    },
    {
      "cell_type": "markdown",
      "metadata": {
        "id": "-Un2thY4ZjEJ"
      },
      "source": [
        "**Run PubMed Search Query**\n",
        "\n",
        "The tool queries the PubMed database and prints the metadata of the top one relevant articles, which can later be used to support clinical insight or feed into the TxGemma model."
      ]
    },
    {
      "cell_type": "code",
      "execution_count": null,
      "metadata": {
        "colab": {
          "base_uri": "https://localhost:8080/"
        },
        "id": "RtrqwYXkMr5n",
        "outputId": "8afd4ee1-172f-4174-b17b-3e96223943a6"
      },
      "outputs": [
        {
          "name": "stderr",
          "output_type": "stream",
          "text": [
            "/usr/local/lib/python3.11/dist-packages/Bio/Entrez/__init__.py:734: UserWarning: \n",
            "            Email address is not specified.\n",
            "\n",
            "            To make use of NCBI's E-utilities, NCBI requires you to specify your\n",
            "            email address with each request.  As an example, if your email address\n",
            "            is A.N.Other@example.com, you can specify it as follows:\n",
            "               from Bio import Entrez\n",
            "               Entrez.email = 'A.N.Other@example.com'\n",
            "            In case of excessive usage of the E-utilities, NCBI will attempt to contact\n",
            "            a user at the email address provided before blocking access to the\n",
            "            E-utilities.\n",
            "  warnings.warn(\n"
          ]
        },
        {
          "name": "stdout",
          "output_type": "stream",
          "text": [
            "Query: Bemdaneprocel Parkinson's disease stem cell therapy\n",
            "Results: === PubMed Search Results for: 'Bemdaneprocel Parkinson's disease stem cell therapy' ===\n",
            "\n",
            "--- Article #1 ---\n",
            "PMID: 40240592\n",
            "Title: Phase I trial of hES cell-derived dopaminergic neurons for Parkinson's disease.\n",
            "Authors: Tabar V, Sarva H, Lozano AM\n",
            "Journal: Nature\n",
            "Publication Date: 2025 May\n",
            "<abstract_start>Parkinson's disease is a progressive neurodegenerative condition with a considerable health and economic burden(1). It is characterized by the loss of midbrain dopaminergic neurons and a diminished response to symptomatic medical or surgical therapy as the disease progresses(2). Cell therapy aims to replenish lost dopaminergic neurons and their striatal projections by intrastriatal grafting. Here, we report the results of an open-label phase I clinical trial (NCT04802733) of an investigational cryopreserved, off-the-shelf dopaminergic neuron progenitor cell product (bemdaneprocel) derived from human embryonic stem (hES) cells and grafted bilaterally into the putamen of patients with Parkinson's disease. Twelve patients were enrolled sequentially in two cohorts-a low-dose (0.9 million cells, n = 5) and a high-dose (2.7 million cells, n = 7) cohort-and all of the participants received one year of immunosuppression. The trial achieved its primary objectives of safety and tolerability one year after transplantation, with no adverse events related to the cell product. At 18 months after grafting, putaminal (18)Fluoro-DOPA positron emission tomography uptake increased, indicating graft survival. Secondary and exploratory clinical outcomes showed improvement or stability, including improvement in the Movement Disorder Society Unified Parkinson's Disease Rating Scale (MDS-UPDRS) Part III OFF scores by an average of 23 points in the high-dose cohort. There were no graft-induced dyskinesias. These data demonstrate safety and support future definitive clinical studies.</abstract_finish>\n",
            "\n"
          ]
        }
      ],
      "source": [
        "pubmed_tool = PubMedSearch()\n",
        "search_results = pubmed_tool.use_tool(\"Bemdaneprocel Parkinson's disease stem cell therapy\")\n",
        "print(search_results)"
      ]
    },
    {
      "cell_type": "markdown",
      "metadata": {
        "id": "fpMKrhgiZvvd"
      },
      "source": [
        "**Createing Tool Manager**\n",
        "\n",
        "The next step is to define a `ToolManager` class to organize and manage access to all available tools. It provides the agent with a prompt listing the tools by name and instructions for how to use each one. When a query is received, the manager loops through the tools to identify which one was invoked and executes the corresponding logic."
      ]
    },
    {
      "cell_type": "code",
      "execution_count": null,
      "metadata": {
        "id": "Jj_1pBS1StAJ"
      },
      "outputs": [],
      "source": [
        "#Creating a tool manager\n",
        "class ToolManager:\n",
        "    def __init__(self, toolset):\n",
        "        self.toolset = toolset\n",
        "\n",
        "    def tool_prompt(self):\n",
        "        # This will let the agent know what tools it has access to\n",
        "        tool_names = \", \".join([tool.tool_name for tool in self.toolset])\n",
        "        return f\"You have access to the following tools: {tool_names}\\n{self.tool_instructions()}. You can only use one tool at a time. These are the only tools you have access to nothing else.\"\n",
        "\n",
        "    def tool_instructions(self):\n",
        "        # This allows the agent to know how to use the tools\n",
        "        tool_instr = \"\\n\".join([tool.instructions() for tool in self.toolset])\n",
        "        return f\"The following is a set of instructions on how to use each tool.\\n{tool_instr}\"\n",
        "\n",
        "    def use_tool(self, query):\n",
        "        # This will iterate through all of the tools\n",
        "        # and find the correct tool that the agent requested\n",
        "        for tool in self.toolset:\n",
        "            if tool.tool_is_used(query):\n",
        "                # use the tool and return the output\n",
        "                return tool.use_tool(tool.process_query(query))\n",
        "        return f\"No tool match for search: {query}\"\n",
        "\n",
        "if USE_CHAT:\n",
        "    tools = ToolManager([TxGemmaChatTool(), PubMedSearch()])\n",
        "else:\n",
        "    tools = ToolManager([PubMedSearch()])"
      ]
    },
    {
      "cell_type": "markdown",
      "metadata": {
        "id": "osCAWbaiaIlg"
      },
      "source": [
        "**Create Gemini Inference Tool**\n",
        "\n",
        "Now we are defining a function inference_gemini to send a prompt to the Gemini model and retrieves its response. The function checks if the specified model string matches \"gemini-2.5-pro\". If so, it initializes the corresponding Gemini model with the provided system instruction, sends the prompt, and returns the generated text output."
      ]
    },
    {
      "cell_type": "code",
      "execution_count": null,
      "metadata": {
        "id": "w7QTNp0UTIox"
      },
      "outputs": [],
      "source": [
        "#Creating a Gemini inference tool\n",
        "\n",
        "def inference_gemini(prompt, system_prompt, model_str):\n",
        "  # Check to see that our model string matches\n",
        "  if model_str == \"gemini-2.5-pro\":\n",
        "    model = genai.GenerativeModel(model_name=\"gemini-2.5-pro-preview-03-25\", system_instruction=system_prompt)\n",
        "    response = model.generate_content(prompt)\n",
        "    answer = response.text\n",
        "  return answer"
      ]
    },
    {
      "cell_type": "markdown",
      "metadata": {
        "id": "68wkzVApaaNl"
      },
      "source": [
        "**Creating a therapeutics agent**\n",
        "\n",
        "We define a therapeutic agent called `AgenticTx`, which performs multi-step reasoning while interacting with external tools such as TxGemma or PubMed. At each step, the agent thinks about the problem, selects and uses an appropriate tool, and observes the results—all of which are stored and fed into the next round of reasoning. This cycle continues until the predefined number of steps is reached, after which the Gemini model produces a final answer without using tools. The structure enables the agent to solve complex biomedical tasks in a step-by-step and tool-augmented manner."
      ]
    },
    {
      "cell_type": "code",
      "execution_count": null,
      "metadata": {
        "id": "t_9Yt_QrUN1a"
      },
      "outputs": [],
      "source": [
        "#Creating a therapeutics agent\n",
        "\n",
        "class AgenticTx:\n",
        "    def __init__(self, tool_manager, model_str, num_steps=5):\n",
        "        self.curr_steps = 0\n",
        "        self.num_steps = num_steps\n",
        "        self.model_str = model_str\n",
        "        self.tool_manager = tool_manager\n",
        "        self.thoughts = list()\n",
        "        self.actions  = list()\n",
        "        self.observations = list()\n",
        "\n",
        "    def reset(self):\n",
        "        self.curr_steps = 0\n",
        "\n",
        "    def system_prompt(self, use_tools=True):\n",
        "        role_prompt = \"You are an expert therapeutic agent. You answer accurately and thoroughly.\"\n",
        "        prev_actions = f\"You can perform a maximum of {self.num_steps} actions. You have performed {self.curr_steps} and have {self.num_steps - self.curr_steps - 1} left.\"\n",
        "        if use_tools:\n",
        "            tool_prompt = \"You can use tools to solve problems and answer questions. \" + self.tool_manager.tool_prompt()\n",
        "        else:\n",
        "            tool_prompt = \"You cannot use any tools right now.\"\n",
        "        return f\"{role_prompt} {prev_actions} {tool_prompt}\"\n",
        "\n",
        "    def prior_information(self, query):\n",
        "        info_txt = f\"Question: {query}\\n\" if query is not None else \"\"\n",
        "        for _i in range(self.curr_steps):\n",
        "            info_txt += f\"### Thought {_i + 1}: {self.thoughts[_i]}\\n\"\n",
        "            info_txt += f\"### Action {_i + 1}: {self.actions[_i]}\\n\"\n",
        "            info_txt += f\"### Observation {_i + 1}: {self.observations[_i]}\\n\\n\"\n",
        "            info_txt += \"@\"*20\n",
        "        return info_txt\n",
        "\n",
        "    def step(self, question):\n",
        "        for _i in range(self.num_steps):\n",
        "            if self.curr_steps == self.num_steps - 1:\n",
        "                return inference_gemini(\n",
        "                    model_str=self.model_str,\n",
        "                    prompt=f\"{self.prior_information(question)}\\nYou must now provide an answer to this question {question}\",\n",
        "                    system_prompt=self.system_prompt(use_tools=False))\n",
        "            else:\n",
        "                thought = inference_gemini(\n",
        "                    model_str=self.model_str,\n",
        "                    prompt=f\"{self.prior_information(question)}\\nYou cannot currently use tools but you can think about the problem and what tools you want to use. This was the question, think about plans for how to use tools to answer this {question}. Let's think step by step (respond with only 1-2 sentences).\\nThought: \",\n",
        "                    system_prompt=self.system_prompt(use_tools=False))\n",
        "                action = inference_gemini(\n",
        "                    model_str=self.model_str,\n",
        "                    prompt=f\"{self.prior_information(question)}\\n{thought}\\nNow you must use tools to answer the following user query [{question}], closely following the tool instructions. Tool\",\n",
        "                    system_prompt=self.system_prompt(use_tools=True))\n",
        "                obs = self.tool_manager.use_tool(action)\n",
        "\n",
        "                print(\"Thought:\", thought)\n",
        "                print(\"Action:\", action)\n",
        "                print(\"Observation:\", obs)\n",
        "\n",
        "                self.thoughts.append(thought)\n",
        "                self.actions.append(action)\n",
        "                self.observations.append(obs)\n",
        "\n",
        "                self.curr_steps += 1"
      ]
    },
    {
      "cell_type": "markdown",
      "metadata": {
        "id": "1XNxsTC1bCUT"
      },
      "source": [
        "**Run Agentic-Tx on Trial Metadata**\n",
        "\n",
        "We now initializing the AgenticTx agent and providing it with structured trial metadata about Bemdaneprocel. The final prompt asks the agent to predict the clinical success probability, identify the top 5 contributing factors, and generate a concise summary—all based on the metadata. The step() method runs the multi-step reasoning process and prints the final output."
      ]
    },
    {
      "cell_type": "code",
      "execution_count": null,
      "metadata": {
        "colab": {
          "base_uri": "https://localhost:8080/",
          "height": 1000
        },
        "id": "LKjti1U9mVJl",
        "outputId": "1089aea5-5d5e-4d12-f631-7c2001627b72"
      },
      "outputs": [
        {
          "name": "stdout",
          "output_type": "stream",
          "text": [
            "Thought: 0.50\n",
            "\n",
            "Top 5 contributing factors:\n",
            "1.  Positive 18-month Phase 1 clinical data publication.\n",
            "2.  Substantial financial and strategic backing (Bayer acquisition and prior funding).\n",
            "3.  Innovative and targeted therapeutic modality (allogeneic iPSC-derived dopaminergic neurons).\n",
            "4.  High unmet medical need in Parkinson's Disease.\n",
            "5.  Robust IP portfolio and technology foundation from MSKCC.\n",
            "\n",
            "Bemdaneprocel (BRT-DA01), an allogeneic iPSC-derived cell therapy for Parkinson's Disease, has an estimated clinical success probability of 0.50. This is supported by positive 18-month Phase 1 data, substantial backing from Bayer, a targeted neuronal replacement strategy, and high unmet medical need. While risks remain, the program shows strong potential advancing towards Phase 3.\n",
            "Action: ```TxGemmaChat\n",
            "Estimate clinical success probability (range: 0.0–1.0) of Bemdaneprocel (BRT‑DA01), list the top 5 contributing factors, and write a natural language summary of the prediction based on the following trial metadata:\n",
            "\n",
            "Company: BlueRock Therapeutics\n",
            "HQ Country: USA (subsidiary of Bayer)\n",
            "Stem-Cell Modality: Allogeneic iPSC-derived dopaminergic neurons bemdaneprocel \"DA01\"\n",
            "Development Stage: Phase 1 PD completed - 18-mo data published; preparing Phase 3\n",
            "Experimental vs. Formal: Formal\n",
            "Latest Funding: Launched with USD 225 M Dec 2016 venture; acquired by Bayer in Aug 2019 ~ USD 1 B deal\n",
            "Public/Private: Private wholly-owned by Bayer AG\n",
            "Clinical Trials (NCT): NCT03309514 PD Phase 1\n",
            "IP / Technology: Licensed pluripotent cell tech MSKCC; robust IP on iPSC differentiation\n",
            "Partnerships: Bayer - parent company; collaborations with academia Sloan Kettering Toronto\n",
            "Lead Disease Areas: Neurodegenerative Parkinson's; ophthalmology AMD\n",
            "Single Disease: Parkinson's\n",
            "```\n",
            "Observation: Estimate clinical success probability (range: 0.0–1.0) of Bemdaneprocel (BRT‑DA01), list the top 5 contributing factors, and write a natural language summary of the prediction based on the following trial metadata:\n",
            "\n",
            "Company: BlueRock Therapeutics\n",
            "HQ Country: USA (subsidiary of Bayer)\n",
            "Stem-Cell Modality: Allogeneic iPSC-derived dopaminergic neurons bemdaneprocel \"DA01\"\n",
            "Development Stage: Phase 1 PD completed - 18-mo data published; preparing Phase 3\n",
            "Experimental vs. Formal: Formal\n",
            "Latest Funding: Launched with USD 225 M Dec 2016 venture; acquired by Bayer in Aug 2019 ~ USD 1 B deal\n",
            "Public/Private: Private wholly-owned by Bayer AG\n",
            "Clinical Trials (NCT): NCT03309514 PD Phase 1\n",
            "IP / Technology: Licensed pluripotent cell tech MSKCC; robust IP on iPSC differentiation\n",
            "Partnerships: Bayer - parent company; collaborations with academia Sloan Kettering Toronto\n",
            "Lead Disease Areas: Neurodegenerative Parkinson's; ophthalmology AMD\n",
            "Single Disease: Parkinson's Disease (PD)\n",
            "Intervention: Allogeneic iPSC-derived dopaminergic neurons bemdaneprocel \"DA01\"\n",
            "Comparator: Sham surgery\n",
            "Thought: 0.45\n",
            "\n",
            "Top 5 contributing factors:\n",
            "1.  Positive 18-month Phase 1 clinical data (published).\n",
            "2.  Progression to \"Preparing for Phase 3\" development stage.\n",
            "3.  Substantial financial and strategic backing from Bayer AG.\n",
            "4.  Biologically plausible mechanism using iPSC-derived dopaminergic neurons for Parkinson's Disease.\n",
            "5.  High unmet medical need in Parkinson's Disease.\n",
            "\n",
            "Bemdaneprocel (BRT-DA01), an allogeneic iPSC-derived dopaminergic neuron therapy for Parkinson's Disease, has an estimated clinical success probability of 0.45. This assessment is based on its advancement to preparing for Phase 3 trials following positive published 18-month Phase 1 data, the substantial financial and strategic backing from its parent company Bayer, a targeted therapeutic mechanism addressing a high unmet medical need, and a strong intellectual property foundation. While significant late-stage development risks inherent to neurodegenerative diseases and cell therapies persist, the program exhibits considerable potential.\n",
            "Action: 0.45\n",
            "\n",
            "Top 5 contributing factors:\n",
            "1.  Positive 18-month Phase 1 clinical data (published).\n",
            "2.  Progression to \"Preparing for Phase 3\" development stage.\n",
            "3.  Substantial financial and strategic backing from Bayer AG.\n",
            "4.  Biologically plausible mechanism using iPSC-derived dopaminergic neurons for Parkinson's Disease.\n",
            "5.  High unmet medical need in Parkinson's Disease.\n",
            "\n",
            "Bemdaneprocel (BRT-DA01), an allogeneic iPSC-derived dopaminergic neuron therapy for Parkinson's Disease, has an estimated clinical success probability of 0.45. This assessment is based on its advancement to preparing for Phase 3 trials following positive published 18-month Phase 1 data, the substantial financial and strategic backing from its parent company Bayer, a targeted therapeutic mechanism addressing a high unmet medical need, and a strong intellectual property foundation. While significant late-stage development risks inherent to neurodegenerative diseases and cell therapies persist, the program exhibits considerable potential.\n",
            "Observation: No tool match for search: 0.45\n",
            "\n",
            "Top 5 contributing factors:\n",
            "1.  Positive 18-month Phase 1 clinical data (published).\n",
            "2.  Progression to \"Preparing for Phase 3\" development stage.\n",
            "3.  Substantial financial and strategic backing from Bayer AG.\n",
            "4.  Biologically plausible mechanism using iPSC-derived dopaminergic neurons for Parkinson's Disease.\n",
            "5.  High unmet medical need in Parkinson's Disease.\n",
            "\n",
            "Bemdaneprocel (BRT-DA01), an allogeneic iPSC-derived dopaminergic neuron therapy for Parkinson's Disease, has an estimated clinical success probability of 0.45. This assessment is based on its advancement to preparing for Phase 3 trials following positive published 18-month Phase 1 data, the substantial financial and strategic backing from its parent company Bayer, a targeted therapeutic mechanism addressing a high unmet medical need, and a strong intellectual property foundation. While significant late-stage development risks inherent to neurodegenerative diseases and cell therapies persist, the program exhibits considerable potential.\n",
            "Thought: 0.45\n",
            "\n",
            "Top 5 contributing factors:\n",
            "1.  Positive 18-month Phase 1 clinical data (published).\n",
            "2.  Progression to \"Preparing for Phase 3\" development stage.\n",
            "3.  Substantial financial and strategic backing from Bayer AG.\n",
            "4.  Biologically plausible mechanism using iPSC-derived dopaminergic neurons for Parkinson's Disease.\n",
            "5.  High unmet medical need in Parkinson's Disease.\n",
            "\n",
            "Bemdaneprocel (BRT-DA01), an allogeneic iPSC-derived dopaminergic neuron therapy for Parkinson's Disease, has an estimated clinical success probability of 0.45. This assessment is based on its advancement to preparing for Phase 3 trials following positive published 18-month Phase 1 data, the substantial financial and strategic backing from its parent company Bayer, a targeted therapeutic mechanism addressing a high unmet medical need, and a strong intellectual property foundation. While significant late-stage development risks inherent to neurodegenerative diseases and cell therapies persist, the program exhibits considerable potential.\n",
            "Action: ```TxGemmaChat\n",
            "Estimate clinical success probability (range: 0.0–1.0) of Bemdaneprocel (BRT‑DA01), list the top 5 contributing factors, and write a natural language summary of the prediction based on the following trial metadata:\n",
            "\n",
            "Company: BlueRock Therapeutics\n",
            "HQ Country: USA (subsidiary of Bayer)\n",
            "Stem-Cell Modality: Allogeneic iPSC-derived dopaminergic neurons bemdaneprocel \"DA01\"\n",
            "Development Stage: Phase 1 PD completed - 18-mo data published; preparing Phase 3\n",
            "Experimental vs. Formal: Formal\n",
            "Latest Funding: Launched with USD 225 M Dec 2016 venture; acquired by Bayer in Aug 2019 ~ USD 1 B deal\n",
            "Public/Private: Private wholly-owned by Bayer AG\n",
            "Clinical Trials (NCT): NCT03309514 PD Phase 1\n",
            "IP / Technology: Licensed pluripotent cell tech MSKCC; robust IP on iPSC differentiation\n",
            "Partnerships: Bayer - parent company; collaborations with academia Sloan Kettering Toronto\n",
            "Lead Disease Areas: Neurodegenerative Parkinson's; ophthalmology AMD\n",
            "Single Disease: Parkinson's\n",
            "```\n",
            "Observation: Estimate clinical success probability (range: 0.0–1.0) of Bemdaneprocel (BRT‑DA01), list the top 5 contributing factors, and write a natural language summary of the prediction based on the following trial metadata:\n",
            "\n",
            "Company: BlueRock Therapeutics\n",
            "HQ Country: USA (subsidiary of Bayer)\n",
            "Stem-Cell Modality: Allogeneic iPSC-derived dopaminergic neurons bemdaneprocel \"DA01\"\n",
            "Development Stage: Phase 1 PD completed - 18-mo data published; preparing Phase 3\n",
            "Experimental vs. Formal: Formal\n",
            "Latest Funding: Launched with USD 225 M Dec 2016 venture; acquired by Bayer in Aug 2019 ~ USD 1 B deal\n",
            "Public/Private: Private wholly-owned by Bayer AG\n",
            "Clinical Trials (NCT): NCT03309514 PD Phase 1\n",
            "IP / Technology: Licensed pluripotent cell tech MSKCC; robust IP on iPSC differentiation\n",
            "Partnerships: Bayer - parent company; collaborations with academia Sloan Kettering Toronto\n",
            "Lead Disease Areas: Neurodegenerative Parkinson's; ophthalmology AMD\n",
            "Single Disease: Parkinson's Disease (PD)\n",
            "Intervention: Allogeneic iPSC-derived dopaminergic neurons bemdaneprocel \"DA01\"\n",
            "Comparator: Sham surgery\n"
          ]
        },
        {
          "name": "stderr",
          "output_type": "stream",
          "text": [
            "ERROR:tornado.access:503 POST /v1beta/models/gemini-2.5-pro-preview-03-25:generateContent?%24alt=json%3Benum-encoding%3Dint (127.0.0.1) 1485.98ms\n"
          ]
        },
        {
          "name": "stdout",
          "output_type": "stream",
          "text": [
            "Thought: 0.40\n",
            "\n",
            "Top 5 contributing factors:\n",
            "1.  Positive 18-month published Phase 1 clinical data.\n",
            "2.  Progression to \"Preparing for Phase 3\" development stage.\n",
            "3.  Substantial financial and strategic backing from Bayer AG.\n",
            "4.  Targeted therapeutic modality (allogeneic iPSC-derived dopaminergic neurons).\n",
            "5.  Robust IP portfolio and technology foundation from MSKCC.\n",
            "\n",
            "Bemdaneprocel (BRT-DA01), an allogeneic iPSC-derived cell therapy for Parkinson's Disease, has an estimated clinical success probability of 0.40. This assessment is primarily based on positive published 18-month Phase 1 data, its advancement towards Phase 3 development, substantial financial and strategic backing from Bayer, a targeted neuronal replacement strategy, and a robust intellectual property and technology foundation. Significant late-stage development risks inherent to this novel modality and neurodegenerative disease persist.\n",
            "Action: ```TxGemmaChat\n",
            "Estimate clinical success probability (range: 0.0–1.0) of Bemdaneprocel (BRT‑DA01), list the top 5 contributing factors, and write a natural language summary of the prediction based on the following trial metadata:\n",
            "\n",
            "Company: BlueRock Therapeutics\n",
            "HQ Country: USA (subsidiary of Bayer)\n",
            "Stem-Cell Modality: Allogeneic iPSC-derived dopaminergic neurons bemdaneprocel \"DA01\"\n",
            "Development Stage: Phase 1 PD completed - 18-mo data published; preparing Phase 3\n",
            "Experimental vs. Formal: Formal\n",
            "Latest Funding: Launched with USD 225 M Dec 2016 venture; acquired by Bayer in Aug 2019 ~ USD 1 B deal\n",
            "Public/Private: Private wholly-owned by Bayer AG\n",
            "Clinical Trials (NCT): NCT03309514 PD Phase 1\n",
            "IP / Technology: Licensed pluripotent cell tech MSKCC; robust IP on iPSC differentiation\n",
            "Partnerships: Bayer - parent company; collaborations with academia Sloan Kettering Toronto\n",
            "Lead Disease Areas: Neurodegenerative Parkinson's; ophthalmology AMD\n",
            "Single Disease: Parkinson's\n",
            "```\n",
            "Observation: Estimate clinical success probability (range: 0.0–1.0) of Bemdaneprocel (BRT‑DA01), list the top 5 contributing factors, and write a natural language summary of the prediction based on the following trial metadata:\n",
            "\n",
            "Company: BlueRock Therapeutics\n",
            "HQ Country: USA (subsidiary of Bayer)\n",
            "Stem-Cell Modality: Allogeneic iPSC-derived dopaminergic neurons bemdaneprocel \"DA01\"\n",
            "Development Stage: Phase 1 PD completed - 18-mo data published; preparing Phase 3\n",
            "Experimental vs. Formal: Formal\n",
            "Latest Funding: Launched with USD 225 M Dec 2016 venture; acquired by Bayer in Aug 2019 ~ USD 1 B deal\n",
            "Public/Private: Private wholly-owned by Bayer AG\n",
            "Clinical Trials (NCT): NCT03309514 PD Phase 1\n",
            "IP / Technology: Licensed pluripotent cell tech MSKCC; robust IP on iPSC differentiation\n",
            "Partnerships: Bayer - parent company; collaborations with academia Sloan Kettering Toronto\n",
            "Lead Disease Areas: Neurodegenerative Parkinson's; ophthalmology AMD\n",
            "Single Disease: Parkinson's Disease (PD)\n",
            "Intervention: Allogeneic iPSC-derived dopaminergic neurons bemdaneprocel \"DA01\"\n",
            "Comparator: Sham surgery\n",
            "\n",
            "Final Response: 0.35\n",
            "\n",
            "Top 5 contributing factors:\n",
            "1.  Positive, published 18-month Phase 1 clinical data in Parkinson's Disease.\n",
            "2.  Progression to \"Preparing Phase 3\" development stage, indicating successful early development.\n",
            "3.  Substantial financial and strategic backing from Bayer AG, including acquisition of BlueRock Therapeutics.\n",
            "4.  Innovative allogeneic iPSC-derived dopaminergic neuron therapy addressing the underlying pathology of Parkinson's Disease.\n",
            "5.  Robust intellectual property portfolio and technology foundation licensed from MSKCC.\n",
            "\n",
            "Bemdaneprocel (BRT-DA01), an allogeneic iPSC-derived cell therapy for Parkinson's Disease, has an estimated clinical success probability of 0.35. This assessment is supported by positive published 18-month Phase 1 data, its advancement towards Phase 3 development under Bayer's substantial backing, its novel therapeutic mechanism, and a strong IP position. Despite these strengths, significant challenges inherent to late-stage development of cell therapies for neurodegenerative disorders remain.\n"
          ]
        }
      ],
      "source": [
        "agentictx = AgenticTx(tool_manager=tools, model_str=\"gemini-2.5-pro\")\n",
        "\n",
        "trial_metadata = f\"\"\"\n",
        "<trial_metadata_start>\n",
        "Company: {row['Company (Website)']}\n",
        "HQ Country: {row['HQ Country']}\n",
        "Stem-Cell Modality: {row['Stem-Cell Modality']}\n",
        "Development Stage: {row['Development Stage']}\n",
        "Experimental vs. Formal: {row['Experimental vs. Formal']}\n",
        "Latest Funding: {row['Latest Funding (Date, Amount, Lead)']}\n",
        "Public/Private: {row['Public/Private']}\n",
        "Clinical Trials (NCT): {row['Clinical Trials (NCT)']}\n",
        "IP / Technology: {row['IP (Intellectual Property) / Technology']}\n",
        "Partnerships: {row['Partnerships/Collaborations']}\n",
        "Lead Disease Areas: {row['Lead Disease Areas']}\n",
        "Single Disease: {row['Single_Disease']}\n",
        "<trial_metadata_end>\n",
        "\"\"\"\n",
        "\n",
        "final_prompt = f\"\"\"Estimate the clinical success probability (range: 0.0–1.0) of Bemdaneprocel (BRT‑DA01), list the top 5 contributing factors, and write natural language summary of prediction based on the following trial metadata.\n",
        "\n",
        "Respond ONLY with:\n",
        "- A numerical success score (0.0–1.0)\n",
        "- A list of the top 5 contributing factors\n",
        "- A concise natural language summary\n",
        "\n",
        "Do not restate the prompt or metadata.\n",
        "\n",
        "{trial_metadata}\n",
        "\"\"\"\n",
        "\n",
        "response = agentictx.step(final_prompt)\n",
        "print(\"\\nFinal Response:\", response)\n"
      ]
    },
    {
      "cell_type": "markdown",
      "metadata": {
        "id": "1XDPxvxLbKzw"
      },
      "source": [
        "**Save the Response to Files**\n",
        "\n",
        "Finally, we save the final agent response to two output files: a Markdown report (bemdaneprocel_report.md) and a structured JSON file (bemdaneprocel_report.json) that includes the task ID, timestamp, and the full response for logging or downstream processing."
      ]
    },
    {
      "cell_type": "code",
      "execution_count": null,
      "metadata": {
        "id": "c3bZOuSBraqR"
      },
      "outputs": [],
      "source": [
        "import datetime\n",
        "\n",
        "f_md = open(\"bemdaneprocel_report.md\", \"w\")\n",
        "f_md.write(response)\n",
        "f_md.close()\n",
        "\n",
        "summary_json = {\n",
        "    \"task\": \"TX-009\",\n",
        "    \"timestamp\": str(datetime.datetime.now()),\n",
        "    \"response\": response\n",
        "}\n",
        "\n",
        "f_json = open(\"bemdaneprocel_report.json\", \"w\")\n",
        "json.dump(summary_json, f_json, indent=2)\n",
        "f_json.close()"
      ]
    }
  ],
  "metadata": {
    "accelerator": "GPU",
    "colab": {
      "gpuType": "L4",
      "machine_shape": "hm",
      "provenance": [],
      "include_colab_link": true
    },
    "kernelspec": {
      "display_name": "Python 3",
      "name": "python3"
    },
    "language_info": {
      "name": "python"
    }
  },
  "nbformat": 4,
  "nbformat_minor": 0
}
